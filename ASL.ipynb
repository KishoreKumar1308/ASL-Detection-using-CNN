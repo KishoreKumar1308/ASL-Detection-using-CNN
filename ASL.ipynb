{
  "nbformat": 4,
  "nbformat_minor": 0,
  "metadata": {
    "colab": {
      "name": "ASL.ipynb",
      "provenance": [],
      "authorship_tag": "ABX9TyPLtJZFlNl4B5moA9WuWgw2",
      "include_colab_link": true
    },
    "kernelspec": {
      "name": "python3",
      "display_name": "Python 3"
    },
    "language_info": {
      "name": "python"
    },
    "accelerator": "GPU"
  },
  "cells": [
    {
      "cell_type": "markdown",
      "metadata": {
        "id": "view-in-github",
        "colab_type": "text"
      },
      "source": [
        "<a href=\"https://colab.research.google.com/github/KishoreKumar1308/ASL-Detection-using-CNN/blob/main/ASL.ipynb\" target=\"_parent\"><img src=\"https://colab.research.google.com/assets/colab-badge.svg\" alt=\"Open In Colab\"/></a>"
      ]
    },
    {
      "cell_type": "code",
      "source": [
        "from google.colab import drive\n",
        "drive.mount('/content/drive')"
      ],
      "metadata": {
        "colab": {
          "base_uri": "https://localhost:8080/"
        },
        "id": "P4bQbF9cfF7d",
        "outputId": "a4f32d54-9ab6-4dff-c3ca-028750c55dbb"
      },
      "execution_count": 1,
      "outputs": [
        {
          "output_type": "stream",
          "name": "stdout",
          "text": [
            "Mounted at /content/drive\n"
          ]
        }
      ]
    },
    {
      "cell_type": "markdown",
      "source": [
        "## Importing Libraries"
      ],
      "metadata": {
        "id": "Q8pydOI2l1Ex"
      }
    },
    {
      "cell_type": "code",
      "source": [
        "import pandas as pd\n",
        "import numpy as np\n",
        "import matplotlib.pyplot as plt\n",
        "import seaborn as sns\n",
        "from skimage import io\n",
        "from PIL import Image\n",
        "import tensorflow as tf"
      ],
      "metadata": {
        "id": "VzABfWh5jaR1"
      },
      "execution_count": 2,
      "outputs": []
    },
    {
      "cell_type": "code",
      "source": [
        "train_data = pd.read_csv(\"/content/drive/MyDrive/ASL/sign_mnist_train.csv\")\n",
        "test_data = pd.read_csv(\"/content/drive/MyDrive/ASL/sign_mnist_test.csv\")"
      ],
      "metadata": {
        "id": "LKbjWX3Nl5Dl"
      },
      "execution_count": 3,
      "outputs": []
    },
    {
      "cell_type": "code",
      "source": [
        "train_data.sample(5)"
      ],
      "metadata": {
        "colab": {
          "base_uri": "https://localhost:8080/",
          "height": 299
        },
        "id": "ource1qpmV34",
        "outputId": "c3b64040-0782-4c96-e55e-b10fa6ddebdb"
      },
      "execution_count": 4,
      "outputs": [
        {
          "output_type": "execute_result",
          "data": {
            "text/plain": [
              "       label  pixel1  pixel2  pixel3  pixel4  pixel5  pixel6  pixel7  pixel8  \\\n",
              "24694      2      66      79      88      93      98     102     105     108   \n",
              "14358     10     113     133     142     148     152     155     157     158   \n",
              "25001      8     188     189     190     191     191     191     191     190   \n",
              "17536      3     183     189     195     199     203     206     208     210   \n",
              "12028      1     170     171     174     177     178     178     178     180   \n",
              "\n",
              "       pixel9  ...  pixel775  pixel776  pixel777  pixel778  pixel779  \\\n",
              "24694     111  ...       165       165       165       168       169   \n",
              "14358     160  ...       157       194       184       183       181   \n",
              "25001     190  ...       222       185       187       161       118   \n",
              "17536     213  ...       124       129       128       139       136   \n",
              "12028     180  ...        11        30        71        83        57   \n",
              "\n",
              "       pixel780  pixel781  pixel782  pixel783  pixel784  \n",
              "24694       169       169       170       169       169  \n",
              "14358       178       177       175       171       169  \n",
              "25001       153       190       139       116       148  \n",
              "17536       130       134       126       106        83  \n",
              "12028        81        98        85        56        39  \n",
              "\n",
              "[5 rows x 785 columns]"
            ],
            "text/html": [
              "\n",
              "  <div id=\"df-61e6fd24-1524-4b07-9d1e-31275f0dd5aa\">\n",
              "    <div class=\"colab-df-container\">\n",
              "      <div>\n",
              "<style scoped>\n",
              "    .dataframe tbody tr th:only-of-type {\n",
              "        vertical-align: middle;\n",
              "    }\n",
              "\n",
              "    .dataframe tbody tr th {\n",
              "        vertical-align: top;\n",
              "    }\n",
              "\n",
              "    .dataframe thead th {\n",
              "        text-align: right;\n",
              "    }\n",
              "</style>\n",
              "<table border=\"1\" class=\"dataframe\">\n",
              "  <thead>\n",
              "    <tr style=\"text-align: right;\">\n",
              "      <th></th>\n",
              "      <th>label</th>\n",
              "      <th>pixel1</th>\n",
              "      <th>pixel2</th>\n",
              "      <th>pixel3</th>\n",
              "      <th>pixel4</th>\n",
              "      <th>pixel5</th>\n",
              "      <th>pixel6</th>\n",
              "      <th>pixel7</th>\n",
              "      <th>pixel8</th>\n",
              "      <th>pixel9</th>\n",
              "      <th>...</th>\n",
              "      <th>pixel775</th>\n",
              "      <th>pixel776</th>\n",
              "      <th>pixel777</th>\n",
              "      <th>pixel778</th>\n",
              "      <th>pixel779</th>\n",
              "      <th>pixel780</th>\n",
              "      <th>pixel781</th>\n",
              "      <th>pixel782</th>\n",
              "      <th>pixel783</th>\n",
              "      <th>pixel784</th>\n",
              "    </tr>\n",
              "  </thead>\n",
              "  <tbody>\n",
              "    <tr>\n",
              "      <th>24694</th>\n",
              "      <td>2</td>\n",
              "      <td>66</td>\n",
              "      <td>79</td>\n",
              "      <td>88</td>\n",
              "      <td>93</td>\n",
              "      <td>98</td>\n",
              "      <td>102</td>\n",
              "      <td>105</td>\n",
              "      <td>108</td>\n",
              "      <td>111</td>\n",
              "      <td>...</td>\n",
              "      <td>165</td>\n",
              "      <td>165</td>\n",
              "      <td>165</td>\n",
              "      <td>168</td>\n",
              "      <td>169</td>\n",
              "      <td>169</td>\n",
              "      <td>169</td>\n",
              "      <td>170</td>\n",
              "      <td>169</td>\n",
              "      <td>169</td>\n",
              "    </tr>\n",
              "    <tr>\n",
              "      <th>14358</th>\n",
              "      <td>10</td>\n",
              "      <td>113</td>\n",
              "      <td>133</td>\n",
              "      <td>142</td>\n",
              "      <td>148</td>\n",
              "      <td>152</td>\n",
              "      <td>155</td>\n",
              "      <td>157</td>\n",
              "      <td>158</td>\n",
              "      <td>160</td>\n",
              "      <td>...</td>\n",
              "      <td>157</td>\n",
              "      <td>194</td>\n",
              "      <td>184</td>\n",
              "      <td>183</td>\n",
              "      <td>181</td>\n",
              "      <td>178</td>\n",
              "      <td>177</td>\n",
              "      <td>175</td>\n",
              "      <td>171</td>\n",
              "      <td>169</td>\n",
              "    </tr>\n",
              "    <tr>\n",
              "      <th>25001</th>\n",
              "      <td>8</td>\n",
              "      <td>188</td>\n",
              "      <td>189</td>\n",
              "      <td>190</td>\n",
              "      <td>191</td>\n",
              "      <td>191</td>\n",
              "      <td>191</td>\n",
              "      <td>191</td>\n",
              "      <td>190</td>\n",
              "      <td>190</td>\n",
              "      <td>...</td>\n",
              "      <td>222</td>\n",
              "      <td>185</td>\n",
              "      <td>187</td>\n",
              "      <td>161</td>\n",
              "      <td>118</td>\n",
              "      <td>153</td>\n",
              "      <td>190</td>\n",
              "      <td>139</td>\n",
              "      <td>116</td>\n",
              "      <td>148</td>\n",
              "    </tr>\n",
              "    <tr>\n",
              "      <th>17536</th>\n",
              "      <td>3</td>\n",
              "      <td>183</td>\n",
              "      <td>189</td>\n",
              "      <td>195</td>\n",
              "      <td>199</td>\n",
              "      <td>203</td>\n",
              "      <td>206</td>\n",
              "      <td>208</td>\n",
              "      <td>210</td>\n",
              "      <td>213</td>\n",
              "      <td>...</td>\n",
              "      <td>124</td>\n",
              "      <td>129</td>\n",
              "      <td>128</td>\n",
              "      <td>139</td>\n",
              "      <td>136</td>\n",
              "      <td>130</td>\n",
              "      <td>134</td>\n",
              "      <td>126</td>\n",
              "      <td>106</td>\n",
              "      <td>83</td>\n",
              "    </tr>\n",
              "    <tr>\n",
              "      <th>12028</th>\n",
              "      <td>1</td>\n",
              "      <td>170</td>\n",
              "      <td>171</td>\n",
              "      <td>174</td>\n",
              "      <td>177</td>\n",
              "      <td>178</td>\n",
              "      <td>178</td>\n",
              "      <td>178</td>\n",
              "      <td>180</td>\n",
              "      <td>180</td>\n",
              "      <td>...</td>\n",
              "      <td>11</td>\n",
              "      <td>30</td>\n",
              "      <td>71</td>\n",
              "      <td>83</td>\n",
              "      <td>57</td>\n",
              "      <td>81</td>\n",
              "      <td>98</td>\n",
              "      <td>85</td>\n",
              "      <td>56</td>\n",
              "      <td>39</td>\n",
              "    </tr>\n",
              "  </tbody>\n",
              "</table>\n",
              "<p>5 rows × 785 columns</p>\n",
              "</div>\n",
              "      <button class=\"colab-df-convert\" onclick=\"convertToInteractive('df-61e6fd24-1524-4b07-9d1e-31275f0dd5aa')\"\n",
              "              title=\"Convert this dataframe to an interactive table.\"\n",
              "              style=\"display:none;\">\n",
              "        \n",
              "  <svg xmlns=\"http://www.w3.org/2000/svg\" height=\"24px\"viewBox=\"0 0 24 24\"\n",
              "       width=\"24px\">\n",
              "    <path d=\"M0 0h24v24H0V0z\" fill=\"none\"/>\n",
              "    <path d=\"M18.56 5.44l.94 2.06.94-2.06 2.06-.94-2.06-.94-.94-2.06-.94 2.06-2.06.94zm-11 1L8.5 8.5l.94-2.06 2.06-.94-2.06-.94L8.5 2.5l-.94 2.06-2.06.94zm10 10l.94 2.06.94-2.06 2.06-.94-2.06-.94-.94-2.06-.94 2.06-2.06.94z\"/><path d=\"M17.41 7.96l-1.37-1.37c-.4-.4-.92-.59-1.43-.59-.52 0-1.04.2-1.43.59L10.3 9.45l-7.72 7.72c-.78.78-.78 2.05 0 2.83L4 21.41c.39.39.9.59 1.41.59.51 0 1.02-.2 1.41-.59l7.78-7.78 2.81-2.81c.8-.78.8-2.07 0-2.86zM5.41 20L4 18.59l7.72-7.72 1.47 1.35L5.41 20z\"/>\n",
              "  </svg>\n",
              "      </button>\n",
              "      \n",
              "  <style>\n",
              "    .colab-df-container {\n",
              "      display:flex;\n",
              "      flex-wrap:wrap;\n",
              "      gap: 12px;\n",
              "    }\n",
              "\n",
              "    .colab-df-convert {\n",
              "      background-color: #E8F0FE;\n",
              "      border: none;\n",
              "      border-radius: 50%;\n",
              "      cursor: pointer;\n",
              "      display: none;\n",
              "      fill: #1967D2;\n",
              "      height: 32px;\n",
              "      padding: 0 0 0 0;\n",
              "      width: 32px;\n",
              "    }\n",
              "\n",
              "    .colab-df-convert:hover {\n",
              "      background-color: #E2EBFA;\n",
              "      box-shadow: 0px 1px 2px rgba(60, 64, 67, 0.3), 0px 1px 3px 1px rgba(60, 64, 67, 0.15);\n",
              "      fill: #174EA6;\n",
              "    }\n",
              "\n",
              "    [theme=dark] .colab-df-convert {\n",
              "      background-color: #3B4455;\n",
              "      fill: #D2E3FC;\n",
              "    }\n",
              "\n",
              "    [theme=dark] .colab-df-convert:hover {\n",
              "      background-color: #434B5C;\n",
              "      box-shadow: 0px 1px 3px 1px rgba(0, 0, 0, 0.15);\n",
              "      filter: drop-shadow(0px 1px 2px rgba(0, 0, 0, 0.3));\n",
              "      fill: #FFFFFF;\n",
              "    }\n",
              "  </style>\n",
              "\n",
              "      <script>\n",
              "        const buttonEl =\n",
              "          document.querySelector('#df-61e6fd24-1524-4b07-9d1e-31275f0dd5aa button.colab-df-convert');\n",
              "        buttonEl.style.display =\n",
              "          google.colab.kernel.accessAllowed ? 'block' : 'none';\n",
              "\n",
              "        async function convertToInteractive(key) {\n",
              "          const element = document.querySelector('#df-61e6fd24-1524-4b07-9d1e-31275f0dd5aa');\n",
              "          const dataTable =\n",
              "            await google.colab.kernel.invokeFunction('convertToInteractive',\n",
              "                                                     [key], {});\n",
              "          if (!dataTable) return;\n",
              "\n",
              "          const docLinkHtml = 'Like what you see? Visit the ' +\n",
              "            '<a target=\"_blank\" href=https://colab.research.google.com/notebooks/data_table.ipynb>data table notebook</a>'\n",
              "            + ' to learn more about interactive tables.';\n",
              "          element.innerHTML = '';\n",
              "          dataTable['output_type'] = 'display_data';\n",
              "          await google.colab.output.renderOutput(dataTable, element);\n",
              "          const docLink = document.createElement('div');\n",
              "          docLink.innerHTML = docLinkHtml;\n",
              "          element.appendChild(docLink);\n",
              "        }\n",
              "      </script>\n",
              "    </div>\n",
              "  </div>\n",
              "  "
            ]
          },
          "metadata": {},
          "execution_count": 4
        }
      ]
    },
    {
      "cell_type": "code",
      "source": [
        "labels = train_data[\"label\"]\n",
        "pixels = train_data.iloc[:,1:]"
      ],
      "metadata": {
        "id": "_-vBMsvXmgud"
      },
      "execution_count": 5,
      "outputs": []
    },
    {
      "cell_type": "code",
      "source": [
        "X_train = pixels.astype('float')/255\n",
        "y_train = tf.keras.utils.to_categorical(labels)"
      ],
      "metadata": {
        "id": "SKFAmlk-qwCE"
      },
      "execution_count": 6,
      "outputs": []
    },
    {
      "cell_type": "code",
      "source": [
        "sns.countplot(data = train_data,x = \"label\")"
      ],
      "metadata": {
        "colab": {
          "base_uri": "https://localhost:8080/",
          "height": 296
        },
        "id": "B1G_XF28nPIu",
        "outputId": "8eb09ed8-8b1d-443b-e6c4-e29f7879d7b2"
      },
      "execution_count": 7,
      "outputs": [
        {
          "output_type": "execute_result",
          "data": {
            "text/plain": [
              "<matplotlib.axes._subplots.AxesSubplot at 0x7fd3ea0cc510>"
            ]
          },
          "metadata": {},
          "execution_count": 7
        },
        {
          "output_type": "display_data",
          "data": {
            "text/plain": [
              "<Figure size 432x288 with 1 Axes>"
            ],
            "image/png": "[encoded data removed]"
          },
          "metadata": {
            "needs_background": "light"
          }
        }
      ]
    },
    {
      "cell_type": "code",
      "source": [
        "alphabet_dict = {}\n",
        "for i in range(0,26):\n",
        "  alphabet_dict[i] = chr(65 + i)"
      ],
      "metadata": {
        "id": "w9wc3DDnniYW"
      },
      "execution_count": 8,
      "outputs": []
    },
    {
      "cell_type": "code",
      "source": [
        "alphabet_dict.pop(9)\n",
        "alphabet_dict.pop(25)"
      ],
      "metadata": {
        "colab": {
          "base_uri": "https://localhost:8080/",
          "height": 35
        },
        "id": "eUhNAl01n69c",
        "outputId": "b812a4c5-c187-49b2-8f25-79d815837703"
      },
      "execution_count": 9,
      "outputs": [
        {
          "output_type": "execute_result",
          "data": {
            "text/plain": [
              "'Z'"
            ],
            "application/vnd.google.colaboratory.intrinsic+json": {
              "type": "string"
            }
          },
          "metadata": {},
          "execution_count": 9
        }
      ]
    },
    {
      "cell_type": "code",
      "source": [
        "fig, axes = plt.subplots(3, 3, figsize = (15,15))\n",
        "for row in axes:\n",
        "    for axe in row:\n",
        "        index = np.random.randint(27455)\n",
        "        img = np.array(X_train.iloc[index,:]).reshape(28,28)\n",
        "        cloths = labels[index]\n",
        "        axe.imshow(img, cmap='gray')\n",
        "        axe.set_title(alphabet_dict[cloths])\n",
        "        axe.set_axis_off()"
      ],
      "metadata": {
        "colab": {
          "base_uri": "https://localhost:8080/",
          "height": 862
        },
        "id": "F2cAn2Gjo6KO",
        "outputId": "8b7b15ec-d075-46ae-b254-53fca411a2cc"
      },
      "execution_count": 10,
      "outputs": [
        {
          "output_type": "display_data",
          "data": {
            "text/plain": [
              "<Figure size 1080x1080 with 9 Axes>"
            ],
            "image/png": "[encoded data removed]"
          },
          "metadata": {
            "needs_background": "light"
          }
        }
      ]
    },
    {
      "cell_type": "code",
      "source": [
        "X_test = test_data.iloc[:,1:].astype('float')/255\n",
        "y_test = tf.keras.utils.to_categorical(test_data['label'])"
      ],
      "metadata": {
        "id": "F4dI6aiXp0cm"
      },
      "execution_count": 11,
      "outputs": []
    },
    {
      "cell_type": "code",
      "source": [
        "X_train = X_train.values.reshape((-1,28,28,1)) # Reshapping 784 columns into 3D\n",
        "X_test = X_test.values.reshape((-1,28,28,1)) # Reshapping 784 columns into 3D"
      ],
      "metadata": {
        "id": "aErohhrFuyoy"
      },
      "execution_count": 12,
      "outputs": []
    },
    {
      "cell_type": "markdown",
      "source": [
        "# Model Building"
      ],
      "metadata": {
        "id": "KMqyrsV2vaSi"
      }
    },
    {
      "cell_type": "code",
      "source": [
        "import keras\n",
        "from keras.models import Sequential\n",
        "from keras.layers import Dense, Flatten, Dropout, BatchNormalization, Conv2D, MaxPool2D\n",
        "from keras.preprocessing.image import ImageDataGenerator\n",
        "from keras.callbacks import ReduceLROnPlateau"
      ],
      "metadata": {
        "id": "trBpsJwXvIrS"
      },
      "execution_count": 13,
      "outputs": []
    },
    {
      "cell_type": "markdown",
      "source": [
        "#### Data Augumentation"
      ],
      "metadata": {
        "id": "eDdS39SPv1RJ"
      }
    },
    {
      "cell_type": "code",
      "source": [
        "generated_data = ImageDataGenerator(rotation_range = 5,zoom_range = 0.1,width_shift_range = 0.1,height_shift_range = 0.1)"
      ],
      "metadata": {
        "id": "JRqXBXk4v0g1"
      },
      "execution_count": 14,
      "outputs": []
    },
    {
      "cell_type": "code",
      "source": [
        "generated_data.fit(X_train)"
      ],
      "metadata": {
        "id": "QjviP-_pwVGc"
      },
      "execution_count": 15,
      "outputs": []
    },
    {
      "cell_type": "code",
      "source": [
        "gen = generated_data.flow(X_train,y_train)"
      ],
      "metadata": {
        "id": "osloNoQ3ws8M"
      },
      "execution_count": 16,
      "outputs": []
    },
    {
      "cell_type": "code",
      "source": [
        "lr_red = ReduceLROnPlateau(monitor = 'val_loss',min_lr = 0.0001,factor = 0.25,patience = 2,verbose = 1)\n",
        "es = tf.keras.callbacks.EarlyStopping(monitor = 'val_loss',patience = 4,verbose = 1)"
      ],
      "metadata": {
        "id": "Gel9U9NkxGNG"
      },
      "execution_count": 17,
      "outputs": []
    },
    {
      "cell_type": "code",
      "source": [
        "model = Sequential()\n",
        "model.add(Conv2D(128, (3, 3),padding = 'same', input_shape=(28, 28, 1),activation = 'relu'))\n",
        "model.add(BatchNormalization())\n",
        "model.add(MaxPool2D(pool_size = (2,2),padding = 'same',))\n",
        "model.add(Conv2D(64,kernel_size = (3,3),activation = 'relu',padding = 'same'))\n",
        "model.add(Dropout(0.2))\n",
        "model.add(BatchNormalization())\n",
        "model.add(MaxPool2D(pool_size = (2,2),padding = 'same',))\n",
        "model.add(Conv2D(64,kernel_size = (3,3),activation = 'relu',padding = 'same'))\n",
        "model.add(BatchNormalization())\n",
        "model.add(Flatten())\n",
        "model.add(Dense(128,activation = \"relu\"))\n",
        "model.add(Dropout(0.2))\n",
        "model.add(Dense(25,activation = \"softmax\"))"
      ],
      "metadata": {
        "id": "j1-a-fxeyTdh"
      },
      "execution_count": 23,
      "outputs": []
    },
    {
      "cell_type": "code",
      "source": [
        "model.summary()"
      ],
      "metadata": {
        "colab": {
          "base_uri": "https://localhost:8080/"
        },
        "id": "fTi9dXcPy7Xs",
        "outputId": "599313fd-907a-4685-b45d-41ed59faf09c"
      },
      "execution_count": 24,
      "outputs": [
        {
          "output_type": "stream",
          "name": "stdout",
          "text": [
            "Model: \"sequential\"\n",
            "_________________________________________________________________\n",
            " Layer (type)                Output Shape              Param #   \n",
            "=================================================================\n",
            " conv2d (Conv2D)             (None, 28, 28, 128)       1280      \n",
            "                                                                 \n",
            " batch_normalization (BatchN  (None, 28, 28, 128)      512       \n",
            " ormalization)                                                   \n",
            "                                                                 \n",
            " max_pooling2d (MaxPooling2D  (None, 14, 14, 128)      0         \n",
            " )                                                               \n",
            "                                                                 \n",
            " conv2d_1 (Conv2D)           (None, 14, 14, 64)        73792     \n",
            "                                                                 \n",
            " dropout (Dropout)           (None, 14, 14, 64)        0         \n",
            "                                                                 \n",
            " batch_normalization_1 (Batc  (None, 14, 14, 64)       256       \n",
            " hNormalization)                                                 \n",
            "                                                                 \n",
            " max_pooling2d_1 (MaxPooling  (None, 7, 7, 64)         0         \n",
            " 2D)                                                             \n",
            "                                                                 \n",
            " conv2d_2 (Conv2D)           (None, 7, 7, 64)          36928     \n",
            "                                                                 \n",
            " batch_normalization_2 (Batc  (None, 7, 7, 64)         256       \n",
            " hNormalization)                                                 \n",
            "                                                                 \n",
            " flatten (Flatten)           (None, 3136)              0         \n",
            "                                                                 \n",
            " dense (Dense)               (None, 128)               401536    \n",
            "                                                                 \n",
            " dropout_1 (Dropout)         (None, 128)               0         \n",
            "                                                                 \n",
            " dense_1 (Dense)             (None, 25)                3225      \n",
            "                                                                 \n",
            "=================================================================\n",
            "Total params: 517,785\n",
            "Trainable params: 517,273\n",
            "Non-trainable params: 512\n",
            "_________________________________________________________________\n"
          ]
        }
      ]
    },
    {
      "cell_type": "code",
      "source": [
        "model.compile(optimizer = 'sgd',loss = 'categorical_crossentropy',metrics = 'accuracy')"
      ],
      "metadata": {
        "id": "mkyV3dKTz9Cd"
      },
      "execution_count": 25,
      "outputs": []
    },
    {
      "cell_type": "code",
      "source": [
        "history = model.fit(gen,epochs = 20,validation_data = (X_test,y_test),callbacks = [lr_red,es])"
      ],
      "metadata": {
        "colab": {
          "base_uri": "https://localhost:8080/"
        },
        "id": "eAsrPjGO0c3G",
        "outputId": "4b0cdc2e-1440-49c1-820b-426f4bb0621a"
      },
      "execution_count": 26,
      "outputs": [
        {
          "output_type": "stream",
          "name": "stdout",
          "text": [
            "Epoch 1/20\n",
            "858/858 [==============================] - 12s 13ms/step - loss: 1.1641 - accuracy: 0.6418 - val_loss: 0.4194 - val_accuracy: 0.8886 - lr: 0.0100\n",
            "Epoch 2/20\n",
            "858/858 [==============================] - 11s 12ms/step - loss: 0.3109 - accuracy: 0.9026 - val_loss: 0.1329 - val_accuracy: 0.9700 - lr: 0.0100\n",
            "Epoch 3/20\n",
            "858/858 [==============================] - 11s 13ms/step - loss: 0.1692 - accuracy: 0.9472 - val_loss: 0.0846 - val_accuracy: 0.9784 - lr: 0.0100\n",
            "Epoch 4/20\n",
            "858/858 [==============================] - 11s 13ms/step - loss: 0.1124 - accuracy: 0.9665 - val_loss: 0.1198 - val_accuracy: 0.9625 - lr: 0.0100\n",
            "Epoch 5/20\n",
            "858/858 [==============================] - 11s 13ms/step - loss: 0.0804 - accuracy: 0.9774 - val_loss: 0.0532 - val_accuracy: 0.9808 - lr: 0.0100\n",
            "Epoch 6/20\n",
            "858/858 [==============================] - 11s 12ms/step - loss: 0.0606 - accuracy: 0.9837 - val_loss: 0.0327 - val_accuracy: 0.9901 - lr: 0.0100\n",
            "Epoch 7/20\n",
            "858/858 [==============================] - 11s 13ms/step - loss: 0.0486 - accuracy: 0.9874 - val_loss: 0.0250 - val_accuracy: 0.9926 - lr: 0.0100\n",
            "Epoch 8/20\n",
            "858/858 [==============================] - 12s 14ms/step - loss: 0.0429 - accuracy: 0.9878 - val_loss: 0.0208 - val_accuracy: 0.9930 - lr: 0.0100\n",
            "Epoch 9/20\n",
            "858/858 [==============================] - 11s 12ms/step - loss: 0.0351 - accuracy: 0.9904 - val_loss: 0.0182 - val_accuracy: 0.9943 - lr: 0.0100\n",
            "Epoch 10/20\n",
            "858/858 [==============================] - 11s 12ms/step - loss: 0.0298 - accuracy: 0.9924 - val_loss: 0.0163 - val_accuracy: 0.9961 - lr: 0.0100\n",
            "Epoch 11/20\n",
            "858/858 [==============================] - 11s 12ms/step - loss: 0.0274 - accuracy: 0.9921 - val_loss: 0.2837 - val_accuracy: 0.9055 - lr: 0.0100\n",
            "Epoch 12/20\n",
            "858/858 [==============================] - 12s 14ms/step - loss: 0.0246 - accuracy: 0.9938 - val_loss: 0.0090 - val_accuracy: 0.9976 - lr: 0.0100\n",
            "Epoch 13/20\n",
            "858/858 [==============================] - 11s 12ms/step - loss: 0.0194 - accuracy: 0.9958 - val_loss: 0.0635 - val_accuracy: 0.9823 - lr: 0.0100\n",
            "Epoch 14/20\n",
            "858/858 [==============================] - ETA: 0s - loss: 0.0191 - accuracy: 0.9953\n",
            "Epoch 14: ReduceLROnPlateau reducing learning rate to 0.0024999999441206455.\n",
            "858/858 [==============================] - 11s 13ms/step - loss: 0.0191 - accuracy: 0.9953 - val_loss: 0.0134 - val_accuracy: 0.9964 - lr: 0.0100\n",
            "Epoch 15/20\n",
            "858/858 [==============================] - 11s 13ms/step - loss: 0.0155 - accuracy: 0.9964 - val_loss: 0.0069 - val_accuracy: 0.9990 - lr: 0.0025\n",
            "Epoch 16/20\n",
            "858/858 [==============================] - 11s 13ms/step - loss: 0.0134 - accuracy: 0.9969 - val_loss: 0.0070 - val_accuracy: 0.9978 - lr: 0.0025\n",
            "Epoch 17/20\n",
            "858/858 [==============================] - 11s 12ms/step - loss: 0.0146 - accuracy: 0.9967 - val_loss: 0.0065 - val_accuracy: 0.9987 - lr: 0.0025\n",
            "Epoch 18/20\n",
            "858/858 [==============================] - 11s 12ms/step - loss: 0.0135 - accuracy: 0.9965 - val_loss: 0.0047 - val_accuracy: 0.9996 - lr: 0.0025\n",
            "Epoch 19/20\n",
            "858/858 [==============================] - 11s 13ms/step - loss: 0.0134 - accuracy: 0.9976 - val_loss: 0.0064 - val_accuracy: 0.9983 - lr: 0.0025\n",
            "Epoch 20/20\n",
            "854/858 [============================>.] - ETA: 0s - loss: 0.0121 - accuracy: 0.9974\n",
            "Epoch 20: ReduceLROnPlateau reducing learning rate to 0.0006249999860301614.\n",
            "858/858 [==============================] - 11s 12ms/step - loss: 0.0121 - accuracy: 0.9974 - val_loss: 0.0046 - val_accuracy: 0.9992 - lr: 0.0025\n"
          ]
        }
      ]
    },
    {
      "cell_type": "code",
      "source": [
        "plt.plot(history.history['accuracy'])\n",
        "plt.plot(history.history['val_accuracy'])\n",
        "plt.title('Model accuracy')\n",
        "plt.ylabel('Accuracy')\n",
        "plt.xlabel('Epoch')\n",
        "plt.legend(['Train', 'Test'], loc='upper left')\n",
        "plt.show()"
      ],
      "metadata": {
        "colab": {
          "base_uri": "https://localhost:8080/",
          "height": 295
        },
        "id": "8y9Nn4Py67kz",
        "outputId": "7a004098-0cce-4d8b-cee2-c53e5b2bce5d"
      },
      "execution_count": 27,
      "outputs": [
        {
          "output_type": "display_data",
          "data": {
            "text/plain": [
              "<Figure size 432x288 with 1 Axes>"
            ],
            "image/png": "[encoded data removed]"
          },
          "metadata": {
            "needs_background": "light"
          }
        }
      ]
    },
    {
      "cell_type": "code",
      "source": [
        "plt.plot(history.history['loss'])\n",
        "plt.plot(history.history['val_loss'])\n",
        "plt.title('Model loss')\n",
        "plt.ylabel('Loss')\n",
        "plt.xlabel('Epoch')\n",
        "plt.legend(['Train', 'Test'], loc='upper left')\n",
        "plt.show()"
      ],
      "metadata": {
        "colab": {
          "base_uri": "https://localhost:8080/",
          "height": 295
        },
        "id": "pcKtugmn7CEa",
        "outputId": "dc302dab-4db1-4dcd-a8cb-0b40059bf41f"
      },
      "execution_count": 28,
      "outputs": [
        {
          "output_type": "display_data",
          "data": {
            "text/plain": [
              "<Figure size 432x288 with 1 Axes>"
            ],
            "image/png": "[encoded data removed]"
          },
          "metadata": {
            "needs_background": "light"
          }
        }
      ]
    },
    {
      "cell_type": "code",
      "source": [
        "print(f\"Evaluation {model.evaluate(X_test,y_test)}\")"
      ],
      "metadata": {
        "colab": {
          "base_uri": "https://localhost:8080/"
        },
        "id": "0eb4LlH99E28",
        "outputId": "12bdbdec-6841-45a4-df50-0859f3ff4816"
      },
      "execution_count": 29,
      "outputs": [
        {
          "output_type": "stream",
          "name": "stdout",
          "text": [
            "225/225 [==============================] - 1s 4ms/step - loss: 0.0046 - accuracy: 0.9992\n",
            "Evaluation [0.004598583094775677, 0.9991633892059326]\n"
          ]
        }
      ]
    },
    {
      "cell_type": "code",
      "source": [
        "model.save('asl_5.h5')"
      ],
      "metadata": {
        "id": "zjb9g6UJ7KDr"
      },
      "execution_count": 30,
      "outputs": []
    },
    {
      "cell_type": "code",
      "source": [
        "tf.keras.backend.clear_session()"
      ],
      "metadata": {
        "id": "NSz9fZKyzCCA"
      },
      "execution_count": 22,
      "outputs": []
    }
  ]
}